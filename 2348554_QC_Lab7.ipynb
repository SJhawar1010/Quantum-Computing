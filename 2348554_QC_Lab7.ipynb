{
  "nbformat": 4,
  "nbformat_minor": 0,
  "metadata": {
    "colab": {
      "provenance": [],
      "authorship_tag": "ABX9TyPaz0EDNg2LHivIblmV6TWR",
      "include_colab_link": true
    },
    "kernelspec": {
      "name": "python3",
      "display_name": "Python 3"
    },
    "language_info": {
      "name": "python"
    }
  },
  "cells": [
    {
      "cell_type": "markdown",
      "metadata": {
        "id": "view-in-github",
        "colab_type": "text"
      },
      "source": [
        "<a href=\"https://colab.research.google.com/github/SJhawar1010/Quantum-Computing/blob/main/2348554_QC_Lab7.ipynb\" target=\"_parent\"><img src=\"https://colab.research.google.com/assets/colab-badge.svg\" alt=\"Open In Colab\"/></a>"
      ]
    },
    {
      "cell_type": "code",
      "source": [
        "!pip install qiskit\n",
        "import qiskit"
      ],
      "metadata": {
        "colab": {
          "base_uri": "https://localhost:8080/"
        },
        "id": "npDy0Rmvw79y",
        "outputId": "9df53a48-8da8-4d1a-8109-fc5be3c8f365"
      },
      "execution_count": 17,
      "outputs": [
        {
          "output_type": "stream",
          "name": "stdout",
          "text": [
            "Requirement already satisfied: qiskit in /usr/local/lib/python3.10/dist-packages (1.3.0)\n",
            "Requirement already satisfied: rustworkx>=0.15.0 in /usr/local/lib/python3.10/dist-packages (from qiskit) (0.15.1)\n",
            "Requirement already satisfied: numpy<3,>=1.17 in /usr/local/lib/python3.10/dist-packages (from qiskit) (1.26.4)\n",
            "Requirement already satisfied: scipy>=1.5 in /usr/local/lib/python3.10/dist-packages (from qiskit) (1.13.1)\n",
            "Requirement already satisfied: sympy>=1.3 in /usr/local/lib/python3.10/dist-packages (from qiskit) (1.13.1)\n",
            "Requirement already satisfied: dill>=0.3 in /usr/local/lib/python3.10/dist-packages (from qiskit) (0.3.9)\n",
            "Requirement already satisfied: python-dateutil>=2.8.0 in /usr/local/lib/python3.10/dist-packages (from qiskit) (2.8.2)\n",
            "Requirement already satisfied: stevedore>=3.0.0 in /usr/local/lib/python3.10/dist-packages (from qiskit) (5.4.0)\n",
            "Requirement already satisfied: typing-extensions in /usr/local/lib/python3.10/dist-packages (from qiskit) (4.12.2)\n",
            "Requirement already satisfied: symengine<0.14,>=0.11 in /usr/local/lib/python3.10/dist-packages (from qiskit) (0.13.0)\n",
            "Requirement already satisfied: six>=1.5 in /usr/local/lib/python3.10/dist-packages (from python-dateutil>=2.8.0->qiskit) (1.16.0)\n",
            "Requirement already satisfied: pbr>=2.0.0 in /usr/local/lib/python3.10/dist-packages (from stevedore>=3.0.0->qiskit) (6.1.0)\n",
            "Requirement already satisfied: mpmath<1.4,>=1.1.0 in /usr/local/lib/python3.10/dist-packages (from sympy>=1.3->qiskit) (1.3.0)\n"
          ]
        }
      ]
    },
    {
      "cell_type": "code",
      "source": [
        "from qiskit import QuantumCircuit , transpile\n",
        "from qiskit_aer import AerSimulator, Aer"
      ],
      "metadata": {
        "id": "DInAZSr60d8e"
      },
      "execution_count": 18,
      "outputs": []
    },
    {
      "cell_type": "code",
      "source": [
        "\n",
        "def deutsch_function(case):\n",
        "    oracle = QuantumCircuit(2)\n",
        "\n",
        "    if case == 'constant_0':\n",
        "        pass\n",
        "    elif case == 'constant_1':\n",
        "        oracle.x(1)\n",
        "    elif case == 'balanced_0':\n",
        "        oracle.cx(0, 1)\n",
        "    elif case == 'balanced_1':\n",
        "        oracle.x(0)\n",
        "        oracle.cx(0, 1)\n",
        "        oracle.x(0)\n",
        "\n",
        "    return oracle"
      ],
      "metadata": {
        "id": "xk6cfcGyxJ24"
      },
      "execution_count": 19,
      "outputs": []
    },
    {
      "cell_type": "code",
      "source": [
        "def deutsch_circuit(case):\n",
        "\n",
        "    qc = QuantumCircuit(2, 1)\n",
        "    qc.x(1)\n",
        "    qc.h(0)\n",
        "    qc.h(1)\n",
        "    oracle = deutsch_function(case)\n",
        "    qc.compose(oracle, inplace=True)\n",
        "    qc.h(0)\n",
        "    qc.measure(0, 0)\n",
        "    return qc"
      ],
      "metadata": {
        "id": "Ty9PFVWpyiuZ"
      },
      "execution_count": 20,
      "outputs": []
    },
    {
      "cell_type": "code",
      "source": [
        "def run_deutsch(case):\n",
        "  qc = deutsch_circuit(case)\n",
        "\n",
        "  simulator = AerSimulator()\n",
        "  tcircuit = transpile(qc, simulator)\n",
        "  result = simulator.run(tcircuit, shots=1).result()\n",
        "  counts = result.get_counts()\n",
        "  MV = max(counts, key=counts.get)\n",
        "\n",
        "  if MV == '0':\n",
        "      return \"constant\"\n",
        "  else:\n",
        "      return \"balanced\""
      ],
      "metadata": {
        "id": "kKfRAoWZyoQS"
      },
      "execution_count": 21,
      "outputs": []
    },
    {
      "cell_type": "code",
      "source": [
        "case = 'balanced_0'\n",
        "qc = deutsch_circuit(case)\n",
        "print(\"Circuit for case:\", case)\n",
        "print(qc)\n",
        "result = run_deutsch(case)\n",
        "print(f\"The function is: {result}\")"
      ],
      "metadata": {
        "colab": {
          "base_uri": "https://localhost:8080/"
        },
        "id": "Bhf3Mg1xyy1n",
        "outputId": "cef17cfa-4e5b-4e22-8b12-658101345308"
      },
      "execution_count": 22,
      "outputs": [
        {
          "output_type": "stream",
          "name": "stdout",
          "text": [
            "Circuit for case: balanced_0\n",
            "     ┌───┐          ┌───┐┌─┐\n",
            "q_0: ┤ H ├───────■──┤ H ├┤M├\n",
            "     ├───┤┌───┐┌─┴─┐└───┘└╥┘\n",
            "q_1: ┤ X ├┤ H ├┤ X ├──────╫─\n",
            "     └───┘└───┘└───┘      ║ \n",
            "c: 1/═════════════════════╩═\n",
            "                          0 \n",
            "The function is: balanced\n"
          ]
        }
      ]
    },
    {
      "cell_type": "code",
      "source": [],
      "metadata": {
        "id": "BQco749sy08x"
      },
      "execution_count": 22,
      "outputs": []
    }
  ]
}