{
  "nbformat": 4,
  "nbformat_minor": 0,
  "metadata": {
    "colab": {
      "provenance": []
    },
    "kernelspec": {
      "name": "python3",
      "display_name": "Python 3"
    },
    "language_info": {
      "name": "python"
    }
  },
  "cells": [
    {
      "cell_type": "code",
      "execution_count": 1,
      "metadata": {
        "id": "-WVxdNobOgKq"
      },
      "outputs": [],
      "source": [
        "import numpy as np"
      ]
    },
    {
      "cell_type": "code",
      "source": [
        "ket_0 = np.array([[1], [0]])\n",
        "ket_1 = np.array([[0], [1]])"
      ],
      "metadata": {
        "id": "HTJ-eI7JQ6qW"
      },
      "execution_count": 2,
      "outputs": []
    },
    {
      "cell_type": "code",
      "source": [
        "alpha = 1 / np.sqrt(2)\n",
        "beta = 1 / np.sqrt(2)"
      ],
      "metadata": {
        "id": "psiJismjQ-BZ"
      },
      "execution_count": 3,
      "outputs": []
    },
    {
      "cell_type": "code",
      "source": [
        "qubit_state = alpha * ket_0 + beta * ket_1"
      ],
      "metadata": {
        "id": "Qy0OK5UwRCA6"
      },
      "execution_count": 4,
      "outputs": []
    },
    {
      "cell_type": "code",
      "source": [
        "print(\"Qubit state |ψ⟩:\")\n",
        "print(qubit_state)"
      ],
      "metadata": {
        "colab": {
          "base_uri": "https://localhost:8080/"
        },
        "id": "6NKYUztzRERl",
        "outputId": "aa41240d-21f2-42d6-af33-f727bcda11b3"
      },
      "execution_count": 5,
      "outputs": [
        {
          "output_type": "stream",
          "name": "stdout",
          "text": [
            "Qubit state |ψ⟩:\n",
            "[[0.70710678]\n",
            " [0.70710678]]\n"
          ]
        }
      ]
    },
    {
      "cell_type": "code",
      "source": [
        "def check_qubit_state(alpha, beta):\n",
        "    ket_0 = np.array([[1], [0]])\n",
        "    ket_1 = np.array([[0], [1]])\n",
        "\n",
        "    qubit_state = alpha * ket_0 + beta * ket_1\n",
        "\n",
        "    print(\"Qubit state |ψ⟩:\")\n",
        "    print(qubit_state)\n",
        "\n",
        "    norm_squared = np.abs(alpha)**2 + np.abs(beta)**2\n",
        "\n",
        "    if np.isclose(norm_squared, 1.0):\n",
        "        print(\"The state is valid (normalized).\")\n",
        "    else:\n",
        "        print(\"The state is invalid (not normalized).\")"
      ],
      "metadata": {
        "id": "OxNH4k5cRF6j"
      },
      "execution_count": 6,
      "outputs": []
    },
    {
      "cell_type": "code",
      "source": [
        "alpha_valid = 1 / np.sqrt(2)\n",
        "beta_valid = 1 / np.sqrt(2)"
      ],
      "metadata": {
        "id": "W5FcOakMRhp-"
      },
      "execution_count": 7,
      "outputs": []
    },
    {
      "cell_type": "code",
      "source": [
        "print(\"Checking valid state:\")\n",
        "check_qubit_state(alpha_valid, beta_valid)\n",
        "print()"
      ],
      "metadata": {
        "colab": {
          "base_uri": "https://localhost:8080/"
        },
        "id": "uGBbqp57Rkb3",
        "outputId": "0c496943-1c58-4cd2-e9e4-6952c878b7fa"
      },
      "execution_count": 8,
      "outputs": [
        {
          "output_type": "stream",
          "name": "stdout",
          "text": [
            "Checking valid state:\n",
            "Qubit state |ψ⟩:\n",
            "[[0.70710678]\n",
            " [0.70710678]]\n",
            "The state is valid (normalized).\n",
            "\n"
          ]
        }
      ]
    },
    {
      "cell_type": "code",
      "source": [
        "alpha_invalid = 1\n",
        "beta_invalid = 1\n",
        "\n",
        "print(\"Checking invalid state:\")\n",
        "check_qubit_state(alpha_invalid, beta_invalid)"
      ],
      "metadata": {
        "colab": {
          "base_uri": "https://localhost:8080/"
        },
        "id": "lTbHO1P7RmVn",
        "outputId": "5428735c-5a89-42f4-c2ff-e8886d62ba83"
      },
      "execution_count": 9,
      "outputs": [
        {
          "output_type": "stream",
          "name": "stdout",
          "text": [
            "Checking invalid state:\n",
            "Qubit state |ψ⟩:\n",
            "[[1]\n",
            " [1]]\n",
            "The state is invalid (not normalized).\n"
          ]
        }
      ]
    },
    {
      "cell_type": "code",
      "source": [
        "import matplotlib.pyplot as plt"
      ],
      "metadata": {
        "id": "wSK8Knu2Roax"
      },
      "execution_count": 10,
      "outputs": []
    },
    {
      "cell_type": "code",
      "source": [
        "def simulate_measurements(alpha, beta, num_measurements):\n",
        "    prob_0 = np.abs(alpha)**2\n",
        "    prob_1 = np.abs(beta)**2\n",
        "\n",
        "    if not np.isclose(prob_0 + prob_1, 1.0):\n",
        "        raise ValueError(\"The state is not normalized.\")\n",
        "\n",
        "    measurements = np.random.choice([0, 1], size=num_measurements, p=[prob_0, prob_1])\n",
        "\n",
        "    counts = np.bincount(measurements, minlength=2)\n",
        "\n",
        "    plt.bar(['|0⟩', '|1⟩'], counts, color=['blue', 'red'])\n",
        "    plt.title(f'Simulated Measurements (n = {num_measurements})')\n",
        "    plt.ylabel('Count')\n",
        "    plt.xlabel('Outcome')\n",
        "    plt.show()\n",
        "\n",
        "    return counts, counts / num_measurements"
      ],
      "metadata": {
        "id": "amrW3ulLR3Kg"
      },
      "execution_count": 11,
      "outputs": []
    },
    {
      "cell_type": "code",
      "source": [
        "alpha = 1 / np.sqrt(2)\n",
        "beta = 1 / np.sqrt(2)\n",
        "num_measurements = 1000"
      ],
      "metadata": {
        "id": "mLenmbb0R-pb"
      },
      "execution_count": 12,
      "outputs": []
    },
    {
      "cell_type": "code",
      "source": [
        "counts, probabilities = simulate_measurements(alpha, beta, num_measurements)"
      ],
      "metadata": {
        "colab": {
          "base_uri": "https://localhost:8080/",
          "height": 472
        },
        "id": "mrbWj8JTSCzS",
        "outputId": "9ee0cff6-1b60-40ce-c9c0-5e1b9732d191"
      },
      "execution_count": 13,
      "outputs": [
        {
          "output_type": "display_data",
          "data": {
            "text/plain": [
              "<Figure size 640x480 with 1 Axes>"
            ],
            "image/png": "[encoded data removed]"
          },
          "metadata": {}
        }
      ]
    },
    {
      "cell_type": "code",
      "source": [
        "print(f\"Counts: |0⟩ = {counts[0]}, |1⟩ = {counts[1]}\")\n",
        "print(f\"Probabilities: |0⟩ = {probabilities[0]:.3f}, |1⟩ = {probabilities[1]:.3f}\")"
      ],
      "metadata": {
        "colab": {
          "base_uri": "https://localhost:8080/"
        },
        "id": "3-Eh_vNRSE1a",
        "outputId": "7e6085e0-7ba8-4e91-c425-8af8fdca0e7f"
      },
      "execution_count": 14,
      "outputs": [
        {
          "output_type": "stream",
          "name": "stdout",
          "text": [
            "Counts: |0⟩ = 495, |1⟩ = 505\n",
            "Probabilities: |0⟩ = 0.495, |1⟩ = 0.505\n"
          ]
        }
      ]
    },
    {
      "cell_type": "code",
      "source": [],
      "metadata": {
        "id": "g5fNsl6rSJuh"
      },
      "execution_count": null,
      "outputs": []
    }
  ]
}