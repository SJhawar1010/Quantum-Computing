{
  "cells": [
    {
      "cell_type": "markdown",
      "metadata": {
        "id": "view-in-github",
        "colab_type": "text"
      },
      "source": [
        "<a href=\"https://colab.research.google.com/github/SJhawar1010/Quantum-Computing/blob/main/Satyam_554_QC_Lab3.ipynb\" target=\"_parent\"><img src=\"https://colab.research.google.com/assets/colab-badge.svg\" alt=\"Open In Colab\"/></a>"
      ]
    },
    {
      "cell_type": "code",
      "source": [
        "!pip install qiskit\n",
        "import qiskit"
      ],
      "metadata": {
        "colab": {
          "base_uri": "https://localhost:8080/"
        },
        "id": "gn6PE0Ythr_9",
        "outputId": "66ff02fb-1fdd-4746-8da8-5b8c1ac4b52b"
      },
      "execution_count": 1,
      "outputs": [
        {
          "output_type": "stream",
          "name": "stdout",
          "text": [
            "Collecting qiskit\n",
            "  Downloading qiskit-1.2.4-cp38-abi3-manylinux_2_17_x86_64.manylinux2014_x86_64.whl.metadata (12 kB)\n",
            "Collecting rustworkx>=0.15.0 (from qiskit)\n",
            "  Downloading rustworkx-0.15.1-cp38-abi3-manylinux_2_17_x86_64.manylinux2014_x86_64.whl.metadata (9.9 kB)\n",
            "Requirement already satisfied: numpy<3,>=1.17 in /usr/local/lib/python3.10/dist-packages (from qiskit) (1.26.4)\n",
            "Requirement already satisfied: scipy>=1.5 in /usr/local/lib/python3.10/dist-packages (from qiskit) (1.13.1)\n",
            "Requirement already satisfied: sympy>=1.3 in /usr/local/lib/python3.10/dist-packages (from qiskit) (1.13.3)\n",
            "Collecting dill>=0.3 (from qiskit)\n",
            "  Downloading dill-0.3.9-py3-none-any.whl.metadata (10 kB)\n",
            "Requirement already satisfied: python-dateutil>=2.8.0 in /usr/local/lib/python3.10/dist-packages (from qiskit) (2.8.2)\n",
            "Collecting stevedore>=3.0.0 (from qiskit)\n",
            "  Downloading stevedore-5.3.0-py3-none-any.whl.metadata (2.3 kB)\n",
            "Requirement already satisfied: typing-extensions in /usr/local/lib/python3.10/dist-packages (from qiskit) (4.12.2)\n",
            "Collecting symengine<0.14,>=0.11 (from qiskit)\n",
            "  Downloading symengine-0.13.0-cp310-cp310-manylinux_2_17_x86_64.manylinux2014_x86_64.whl.metadata (1.2 kB)\n",
            "Requirement already satisfied: six>=1.5 in /usr/local/lib/python3.10/dist-packages (from python-dateutil>=2.8.0->qiskit) (1.16.0)\n",
            "Collecting pbr>=2.0.0 (from stevedore>=3.0.0->qiskit)\n",
            "  Downloading pbr-6.1.0-py2.py3-none-any.whl.metadata (3.4 kB)\n",
            "Requirement already satisfied: mpmath<1.4,>=1.1.0 in /usr/local/lib/python3.10/dist-packages (from sympy>=1.3->qiskit) (1.3.0)\n",
            "Downloading qiskit-1.2.4-cp38-abi3-manylinux_2_17_x86_64.manylinux2014_x86_64.whl (4.8 MB)\n",
            "\u001b[2K   \u001b[90m━━━━━━━━━━━━━━━━━━━━━━━━━━━━━━━━━━━━━━━━\u001b[0m \u001b[32m4.8/4.8 MB\u001b[0m \u001b[31m49.4 MB/s\u001b[0m eta \u001b[36m0:00:00\u001b[0m\n",
            "\u001b[?25hDownloading dill-0.3.9-py3-none-any.whl (119 kB)\n",
            "\u001b[2K   \u001b[90m━━━━━━━━━━━━━━━━━━━━━━━━━━━━━━━━━━━━━━━━\u001b[0m \u001b[32m119.4/119.4 kB\u001b[0m \u001b[31m8.5 MB/s\u001b[0m eta \u001b[36m0:00:00\u001b[0m\n",
            "\u001b[?25hDownloading rustworkx-0.15.1-cp38-abi3-manylinux_2_17_x86_64.manylinux2014_x86_64.whl (2.0 MB)\n",
            "\u001b[2K   \u001b[90m━━━━━━━━━━━━━━━━━━━━━━━━━━━━━━━━━━━━━━━━\u001b[0m \u001b[32m2.0/2.0 MB\u001b[0m \u001b[31m71.4 MB/s\u001b[0m eta \u001b[36m0:00:00\u001b[0m\n",
            "\u001b[?25hDownloading stevedore-5.3.0-py3-none-any.whl (49 kB)\n",
            "\u001b[2K   \u001b[90m━━━━━━━━━━━━━━━━━━━━━━━━━━━━━━━━━━━━━━━━\u001b[0m \u001b[32m49.7/49.7 kB\u001b[0m \u001b[31m3.7 MB/s\u001b[0m eta \u001b[36m0:00:00\u001b[0m\n",
            "\u001b[?25hDownloading symengine-0.13.0-cp310-cp310-manylinux_2_17_x86_64.manylinux2014_x86_64.whl (49.7 MB)\n",
            "\u001b[2K   \u001b[90m━━━━━━━━━━━━━━━━━━━━━━━━━━━━━━━━━━━━━━━━\u001b[0m \u001b[32m49.7/49.7 MB\u001b[0m \u001b[31m17.6 MB/s\u001b[0m eta \u001b[36m0:00:00\u001b[0m\n",
            "\u001b[?25hDownloading pbr-6.1.0-py2.py3-none-any.whl (108 kB)\n",
            "\u001b[2K   \u001b[90m━━━━━━━━━━━━━━━━━━━━━━━━━━━━━━━━━━━━━━━━\u001b[0m \u001b[32m108.5/108.5 kB\u001b[0m \u001b[31m7.8 MB/s\u001b[0m eta \u001b[36m0:00:00\u001b[0m\n",
            "\u001b[?25hInstalling collected packages: symengine, rustworkx, pbr, dill, stevedore, qiskit\n",
            "Successfully installed dill-0.3.9 pbr-6.1.0 qiskit-1.2.4 rustworkx-0.15.1 stevedore-5.3.0 symengine-0.13.0\n"
          ]
        }
      ]
    },
    {
      "cell_type": "markdown",
      "metadata": {
        "id": "PinRtE1sfoJR"
      },
      "source": [
        "# Importing Dependencies"
      ]
    },
    {
      "cell_type": "code",
      "execution_count": 2,
      "metadata": {
        "id": "MaVdHo8gfoJZ"
      },
      "outputs": [],
      "source": [
        "from qiskit.quantum_info import Statevector, Operator\n",
        "from qiskit.circuit.library import CCXGate\n",
        "import numpy as np\n",
        "import matplotlib.pyplot as plt\n",
        "from numpy import sqrt"
      ]
    },
    {
      "cell_type": "markdown",
      "metadata": {
        "id": "TAZ_AzlifoJa"
      },
      "source": [
        "# Step 1: Perform Tensor Product of Two Vectors"
      ]
    },
    {
      "cell_type": "code",
      "execution_count": 3,
      "metadata": {
        "id": "2wUlQTCsfoJa"
      },
      "outputs": [],
      "source": [
        "zero_state = Statevector([1, 0])\n",
        "one_state = Statevector([0, 1])"
      ]
    },
    {
      "cell_type": "markdown",
      "metadata": {
        "id": "xN80skCXfoJb"
      },
      "source": [
        "### Tensor product of |0> and |1>"
      ]
    },
    {
      "cell_type": "code",
      "execution_count": 4,
      "metadata": {
        "colab": {
          "base_uri": "https://localhost:8080/",
          "height": 89
        },
        "id": "7ndTW2oQfoJb",
        "outputId": "815ee2fe-6f9d-4732-e2db-34918e700c9f"
      },
      "outputs": [
        {
          "output_type": "stream",
          "name": "stdout",
          "text": [
            "Tensor Product State:\n",
            "Statevector([0.+0.j, 1.+0.j, 0.+0.j, 0.+0.j],\n",
            "            dims=(2, 2))\n"
          ]
        },
        {
          "output_type": "execute_result",
          "data": {
            "text/plain": [
              "<IPython.core.display.Latex object>"
            ],
            "text/latex": "$$ |01\\rangle$$"
          },
          "metadata": {},
          "execution_count": 4
        }
      ],
      "source": [
        "tensor_product = zero_state.tensor(one_state)\n",
        "print(\"Tensor Product State:\")\n",
        "print(tensor_product)\n",
        "tensor_product.draw('latex')"
      ]
    },
    {
      "cell_type": "markdown",
      "metadata": {
        "id": "QP2Sh9TtfoJc"
      },
      "source": [
        "### Displaying tensor product state probabilities"
      ]
    },
    {
      "cell_type": "code",
      "execution_count": 5,
      "metadata": {
        "colab": {
          "base_uri": "https://localhost:8080/"
        },
        "id": "GKfNGNbSfoJc",
        "outputId": "9fffc5d2-5cb1-452d-891c-fbff5314f1c9"
      },
      "outputs": [
        {
          "output_type": "stream",
          "name": "stdout",
          "text": [
            "Tensor Product State Probabilities:\n",
            "{'01': 1.0}\n"
          ]
        }
      ],
      "source": [
        "print(\"Tensor Product State Probabilities:\")\n",
        "print(tensor_product.probabilities_dict())"
      ]
    },
    {
      "cell_type": "markdown",
      "metadata": {
        "id": "l8NDUTIefoJc"
      },
      "source": [
        "# Step 2: Tensor Product of Superposition States"
      ]
    },
    {
      "cell_type": "code",
      "execution_count": 6,
      "metadata": {
        "id": "gPWTwTSafoJd"
      },
      "outputs": [],
      "source": [
        "plus_state = Statevector([1 / sqrt(2), 1 / sqrt(2)])\n",
        "i_state = Statevector([1 / sqrt(2), 1j / sqrt(2)])"
      ]
    },
    {
      "cell_type": "markdown",
      "metadata": {
        "id": "dTrfDaBvfoJd"
      },
      "source": [
        "### Tensor product of |+> and |i>"
      ]
    },
    {
      "cell_type": "code",
      "execution_count": 7,
      "metadata": {
        "colab": {
          "base_uri": "https://localhost:8080/",
          "height": 90
        },
        "id": "5gZ6ZYSdfoJd",
        "outputId": "ec968f52-dc08-4bb0-e74f-5ac69a974373"
      },
      "outputs": [
        {
          "output_type": "stream",
          "name": "stdout",
          "text": [
            "Composite State |+> ⊗ |i>:\n",
            "Statevector([0.5+0.j , 0. +0.5j, 0.5+0.j , 0. +0.5j],\n",
            "            dims=(2, 2))\n"
          ]
        },
        {
          "output_type": "execute_result",
          "data": {
            "text/plain": [
              "<IPython.core.display.Latex object>"
            ],
            "text/latex": "$$\\frac{1}{2} |00\\rangle+\\frac{i}{2} |01\\rangle+\\frac{1}{2} |10\\rangle+\\frac{i}{2} |11\\rangle$$"
          },
          "metadata": {},
          "execution_count": 7
        }
      ],
      "source": [
        "psi = plus_state.tensor(i_state)\n",
        "print(\"Composite State |+> ⊗ |i>:\")\n",
        "print(psi)\n",
        "psi.draw('latex')"
      ]
    },
    {
      "cell_type": "markdown",
      "metadata": {
        "id": "fLMw87eGfoJe"
      },
      "source": [
        "### Displaying composite state probabilities"
      ]
    },
    {
      "cell_type": "code",
      "execution_count": 8,
      "metadata": {
        "colab": {
          "base_uri": "https://localhost:8080/"
        },
        "id": "oNL8K_JdfoJe",
        "outputId": "2d885f24-a823-480f-e52f-2679214df408"
      },
      "outputs": [
        {
          "output_type": "stream",
          "name": "stdout",
          "text": [
            "Composite State Probabilities:\n",
            "{'00': 0.2499999999999999, '01': 0.2499999999999999, '10': 0.2499999999999999, '11': 0.2499999999999999}\n"
          ]
        }
      ],
      "source": [
        "print(\"Composite State Probabilities:\")\n",
        "print(psi.probabilities_dict())"
      ]
    },
    {
      "cell_type": "markdown",
      "metadata": {
        "id": "gmzelT45foJe"
      },
      "source": [
        "# Step 3: Create an Operator and Apply it on a State Vector"
      ]
    },
    {
      "cell_type": "code",
      "execution_count": 9,
      "metadata": {
        "id": "tKzM2XbifoJe"
      },
      "outputs": [],
      "source": [
        "X = Operator([[0, 1],\n",
        "              [1, 0]])\n",
        "I = Operator([[1, 0],\n",
        "              [0, 1]])"
      ]
    },
    {
      "cell_type": "markdown",
      "metadata": {
        "id": "iV7SLFeqfoJe"
      },
      "source": [
        "### Creating a combined operator by tensoring X and I and defining the initial state"
      ]
    },
    {
      "cell_type": "code",
      "execution_count": 10,
      "metadata": {
        "id": "KBLtwe4LfoJf"
      },
      "outputs": [],
      "source": [
        "X_I = X.tensor(I)\n",
        "initial_state = Statevector.from_label('00')"
      ]
    },
    {
      "cell_type": "markdown",
      "metadata": {
        "id": "3TPNwvtpfoJf"
      },
      "source": [
        "### Evolve the initial state using the combined operator"
      ]
    },
    {
      "cell_type": "code",
      "execution_count": 11,
      "metadata": {
        "colab": {
          "base_uri": "https://localhost:8080/",
          "height": 89
        },
        "id": "aiDD9i0KfoJf",
        "outputId": "a71a0646-558a-4558-ac7d-8af8ace74853"
      },
      "outputs": [
        {
          "output_type": "stream",
          "name": "stdout",
          "text": [
            "Evolved State after applying X on the first qubit:\n",
            "Statevector([0.+0.j, 0.+0.j, 1.+0.j, 0.+0.j],\n",
            "            dims=(2, 2))\n"
          ]
        },
        {
          "output_type": "execute_result",
          "data": {
            "text/plain": [
              "<IPython.core.display.Latex object>"
            ],
            "text/latex": "$$ |10\\rangle$$"
          },
          "metadata": {},
          "execution_count": 11
        }
      ],
      "source": [
        "evolved_state = initial_state.evolve(X_I)\n",
        "print(\"Evolved State after applying X on the first qubit:\")\n",
        "print(evolved_state)\n",
        "# Displaying the evolved state in LaTeX representation\n",
        "evolved_state.draw('latex')"
      ]
    },
    {
      "cell_type": "markdown",
      "metadata": {
        "id": "lv_njhNIfoJf"
      },
      "source": [
        "### Displaying evolved state probabilities"
      ]
    },
    {
      "cell_type": "code",
      "execution_count": 12,
      "metadata": {
        "colab": {
          "base_uri": "https://localhost:8080/"
        },
        "id": "2a4Mi6ewfoJf",
        "outputId": "32699794-b709-4e23-f836-238bc2857691"
      },
      "outputs": [
        {
          "output_type": "stream",
          "name": "stdout",
          "text": [
            "Evolved State Probabilities:\n",
            "{'10': 1.0}\n"
          ]
        }
      ],
      "source": [
        "print(\"Evolved State Probabilities:\")\n",
        "print(evolved_state.probabilities_dict())"
      ]
    },
    {
      "cell_type": "markdown",
      "metadata": {
        "id": "yar7wXKafoJg"
      },
      "source": [
        "# Step 4: Perform a Partial Measurement"
      ]
    },
    {
      "cell_type": "code",
      "execution_count": 13,
      "metadata": {
        "colab": {
          "base_uri": "https://localhost:8080/",
          "height": 72
        },
        "id": "Dqi7mA7YfoJg",
        "outputId": "9433734b-7f62-4ab8-aa38-ac1e9bf384d2"
      },
      "outputs": [
        {
          "output_type": "stream",
          "name": "stdout",
          "text": [
            "Measured: 0\n",
            "State after measurement:\n"
          ]
        },
        {
          "output_type": "execute_result",
          "data": {
            "text/plain": [
              "<IPython.core.display.Latex object>"
            ],
            "text/latex": "$$ |10\\rangle$$"
          },
          "metadata": {},
          "execution_count": 13
        }
      ],
      "source": [
        "result, new_state = evolved_state.measure([0])\n",
        "print(f\"Measured: {result}\")\n",
        "print(\"State after measurement:\")\n",
        "new_state.draw('latex')"
      ]
    },
    {
      "cell_type": "markdown",
      "metadata": {
        "id": "1s3wSJXAfoJg"
      },
      "source": [
        "### Displaying the new state after measurement probabilities"
      ]
    },
    {
      "cell_type": "code",
      "execution_count": 14,
      "metadata": {
        "colab": {
          "base_uri": "https://localhost:8080/"
        },
        "id": "0-aiLtuufoJg",
        "outputId": "aae7f644-d6ee-4d69-cda1-ec878b93cf07"
      },
      "outputs": [
        {
          "output_type": "stream",
          "name": "stdout",
          "text": [
            "State After Measurement Probabilities:\n",
            "{'10': 1.0}\n"
          ]
        }
      ],
      "source": [
        "print(\"State After Measurement Probabilities:\")\n",
        "print(new_state.probabilities_dict())"
      ]
    },
    {
      "cell_type": "markdown",
      "metadata": {
        "id": "WzIyfvlEfoJg"
      },
      "source": [
        "# Step 5: Define the Matrix Representation of the CSWAP (Fredkin) Gate"
      ]
    },
    {
      "cell_type": "code",
      "execution_count": 15,
      "metadata": {
        "id": "kK8q0nJEfoJg"
      },
      "outputs": [],
      "source": [
        "cswap_matrix = np.array([\n",
        "    [1, 0, 0, 0, 0, 0, 0, 0],\n",
        "    [0, 1, 0, 0, 0, 0, 0, 0],\n",
        "    [0, 0, 1, 0, 0, 0, 0, 0],\n",
        "    [0, 0, 0, 1, 0, 0, 0, 0],\n",
        "    [0, 0, 0, 0, 1, 0, 0, 0],\n",
        "    [0, 0, 0, 0, 0, 1, 0, 0],\n",
        "    [0, 0, 0, 0, 0, 0, 0, 1],\n",
        "    [0, 0, 0, 0, 0, 0, 1, 0],\n",
        "])"
      ]
    },
    {
      "cell_type": "markdown",
      "metadata": {
        "id": "SKOO6ubafoJh"
      },
      "source": [
        "### Create the Operator for CSWAP"
      ]
    },
    {
      "cell_type": "code",
      "execution_count": 16,
      "metadata": {
        "colab": {
          "base_uri": "https://localhost:8080/"
        },
        "id": "2wFrlgy7foJh",
        "outputId": "8120102e-1c4a-4f0e-9a1b-40c7ceb619d3"
      },
      "outputs": [
        {
          "output_type": "stream",
          "name": "stdout",
          "text": [
            "CSWAP matrix representation:\n",
            "[[1.+0.j 0.+0.j 0.+0.j 0.+0.j 0.+0.j 0.+0.j 0.+0.j 0.+0.j]\n",
            " [0.+0.j 1.+0.j 0.+0.j 0.+0.j 0.+0.j 0.+0.j 0.+0.j 0.+0.j]\n",
            " [0.+0.j 0.+0.j 1.+0.j 0.+0.j 0.+0.j 0.+0.j 0.+0.j 0.+0.j]\n",
            " [0.+0.j 0.+0.j 0.+0.j 1.+0.j 0.+0.j 0.+0.j 0.+0.j 0.+0.j]\n",
            " [0.+0.j 0.+0.j 0.+0.j 0.+0.j 1.+0.j 0.+0.j 0.+0.j 0.+0.j]\n",
            " [0.+0.j 0.+0.j 0.+0.j 0.+0.j 0.+0.j 1.+0.j 0.+0.j 0.+0.j]\n",
            " [0.+0.j 0.+0.j 0.+0.j 0.+0.j 0.+0.j 0.+0.j 0.+0.j 1.+0.j]\n",
            " [0.+0.j 0.+0.j 0.+0.j 0.+0.j 0.+0.j 0.+0.j 1.+0.j 0.+0.j]]\n"
          ]
        }
      ],
      "source": [
        "CSWAP = Operator(cswap_matrix)\n",
        "print(\"CSWAP matrix representation:\")\n",
        "print(CSWAP.data)"
      ]
    },
    {
      "cell_type": "markdown",
      "metadata": {
        "id": "vC1JptKdfoJh"
      },
      "source": [
        "# Step 6: Define the Matrix Representation of the Toffoli (CCX) Gate"
      ]
    },
    {
      "cell_type": "code",
      "execution_count": 17,
      "metadata": {
        "id": "9HYqlTHqfoJh"
      },
      "outputs": [],
      "source": [
        "toffoli_gate = CCXGate()\n",
        "Toffoli = Operator(toffoli_gate)"
      ]
    },
    {
      "cell_type": "markdown",
      "metadata": {
        "id": "uKU3ka0nfoJi"
      },
      "source": [
        "### Display the matrix representation of the Toffoli gate"
      ]
    },
    {
      "cell_type": "code",
      "execution_count": 18,
      "metadata": {
        "colab": {
          "base_uri": "https://localhost:8080/"
        },
        "id": "9fJHcki3foJi",
        "outputId": "71dd9dd9-c1a5-42d7-bc8d-001f0be66867"
      },
      "outputs": [
        {
          "output_type": "stream",
          "name": "stdout",
          "text": [
            "Toffoli gate matrix representation:\n",
            "[[1.+0.j 0.+0.j 0.+0.j 0.+0.j 0.+0.j 0.+0.j 0.+0.j 0.+0.j]\n",
            " [0.+0.j 1.+0.j 0.+0.j 0.+0.j 0.+0.j 0.+0.j 0.+0.j 0.+0.j]\n",
            " [0.+0.j 0.+0.j 1.+0.j 0.+0.j 0.+0.j 0.+0.j 0.+0.j 0.+0.j]\n",
            " [0.+0.j 0.+0.j 0.+0.j 0.+0.j 0.+0.j 0.+0.j 0.+0.j 1.+0.j]\n",
            " [0.+0.j 0.+0.j 0.+0.j 0.+0.j 1.+0.j 0.+0.j 0.+0.j 0.+0.j]\n",
            " [0.+0.j 0.+0.j 0.+0.j 0.+0.j 0.+0.j 1.+0.j 0.+0.j 0.+0.j]\n",
            " [0.+0.j 0.+0.j 0.+0.j 0.+0.j 0.+0.j 0.+0.j 1.+0.j 0.+0.j]\n",
            " [0.+0.j 0.+0.j 0.+0.j 1.+0.j 0.+0.j 0.+0.j 0.+0.j 0.+0.j]]\n"
          ]
        }
      ],
      "source": [
        "print(\"Toffoli gate matrix representation:\")\n",
        "print(Toffoli.data)"
      ]
    }
  ],
  "metadata": {
    "kernelspec": {
      "display_name": "Python 3",
      "language": "python",
      "name": "python3"
    },
    "language_info": {
      "codemirror_mode": {
        "name": "ipython",
        "version": 3
      },
      "file_extension": ".py",
      "mimetype": "text/x-python",
      "name": "python",
      "nbconvert_exporter": "python",
      "pygments_lexer": "ipython3",
      "version": "3.12.4"
    },
    "colab": {
      "provenance": [],
      "include_colab_link": true
    }
  },
  "nbformat": 4,
  "nbformat_minor": 0
}